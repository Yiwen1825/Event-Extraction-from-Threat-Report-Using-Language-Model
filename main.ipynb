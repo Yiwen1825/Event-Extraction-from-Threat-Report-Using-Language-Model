{
 "cells": [
  {
   "cell_type": "code",
   "execution_count": 25,
   "metadata": {},
   "outputs": [],
   "source": [
    "import os\n",
    "\n",
    "directory = 'data'\n",
    "\n",
    "texts = []\n",
    "labels = []\n",
    "\n",
    "for filename in os.listdir(directory):\n",
    "    if filename.endswith('.txt'):  \n",
    "        with open(os.path.join(directory, filename), 'r', encoding='utf-8') as file:\n",
    "            for line in file:\n",
    "                if '|' in line:\n",
    "                    parts = line.rsplit('|', 1)\n",
    "                    if parts[1].strip() == \"\":\n",
    "                        continue\n",
    "                    text = parts[0].strip()\n",
    "                    label = parts[1].strip() if len(parts) > 1 else 'O'  \n",
    "                    texts.append(text)\n",
    "                    labels.append(label)"
   ]
  },
  {
   "cell_type": "code",
   "execution_count": 26,
   "metadata": {},
   "outputs": [
    {
     "data": {
      "text/plain": [
       "Counter({'O': 10209,\n",
       "         'AttackRansom': 1494,\n",
       "         'AttackRansom, AttackDatabreach': 24,\n",
       "         'DiscoverVulnerability': 1467,\n",
       "         'AttackDatabreach': 1405,\n",
       "         'PatchVulnerability': 949,\n",
       "         'AttackPhishing': 1283,\n",
       "         'PatchVulnerability, DiscoverVulnerability': 83,\n",
       "         'DiscoverVulnerability , PatchVulnerability': 40,\n",
       "         'DiscoverVulnerability, PatchVulnerability': 121,\n",
       "         'AttackPhishing, AttackDatabreach': 26,\n",
       "         'AttackDatabreach, AttackPhishing': 21,\n",
       "         'DiscoverVulnerability, AttackDatabreach': 22,\n",
       "         'PatchVulnerability, AttackRansom': 4,\n",
       "         'PatchVulnerability , DiscoverVulnerability': 9,\n",
       "         'DiscoverVulnerability, AttackPhishing': 2,\n",
       "         'AttackRansom, AttackDatabreach, AttackPhishing': 1,\n",
       "         'AttackDatabreach, AttackRansom': 14,\n",
       "         'PatchVulnerability , AttackDatabreach': 1,\n",
       "         'AttackDatabreach, DiscoverVulnerability': 8,\n",
       "         'AttackDatabreach, PatchVulnerability': 3,\n",
       "         'AttackRansom, DiscoverVulnerability': 1,\n",
       "         'AttackPhishing, PatchVulnerability': 6,\n",
       "         'PatchVulnerability,  DiscoverVulnerability': 1,\n",
       "         'DiscoverVulnerability,PatchVulnerability': 1,\n",
       "         'AttackPhishing , AttackRansom': 4,\n",
       "         'AttackDatabreach , AttackRansom': 11,\n",
       "         'AttackDatabreach , DiscoverVulnerability': 2,\n",
       "         'AttackPhishing , AttackDatabreach': 9,\n",
       "         'AttackRansom, AttackPhishing': 3,\n",
       "         'AttackDatabreach , AttackPhishing': 6,\n",
       "         'AttackPhishing , PatchVulnerability': 1,\n",
       "         'PatchVulnerability , AttackRansom': 1,\n",
       "         'AttackRansom , AttackDatabreach': 6,\n",
       "         'AttackRansom, PatchVulnerability': 2,\n",
       "         'PatchVulnerability, AttackPhishing': 3,\n",
       "         'DiscoverVulnerability, AttackRansom': 2,\n",
       "         'DiscoverVulnerability , AttackDatabreach': 8,\n",
       "         'PatchVulnerability, AttackDatabreach': 1,\n",
       "         'AttackPhishing, AttackRansom': 6,\n",
       "         'AttackPhishing, AttackRansom, PatchVulnerability': 1,\n",
       "         'DiscoverVulnerability , AttackRansom': 1,\n",
       "         'AttackRansom , DiscoverVulnerability': 2,\n",
       "         'AttackRansom , AttackDatabreach , AttackRansom': 1,\n",
       "         'AttackRansom , PatchVulnerability': 1,\n",
       "         'AttackDatabreach , AttackDatabreach': 1,\n",
       "         'AttackPhishing, DiscoverVulnerability': 1,\n",
       "         'AttackRansom , AttackPhishing': 1})"
      ]
     },
     "execution_count": 26,
     "metadata": {},
     "output_type": "execute_result"
    }
   ],
   "source": [
    "from collections import Counter\n",
    "Counter(labels)"
   ]
  },
  {
   "cell_type": "code",
   "execution_count": 27,
   "metadata": {},
   "outputs": [],
   "source": [
    "temp  = []\n",
    "for label in labels:\n",
    "    for t in label.split(','):\n",
    "        temp.append(t.strip())"
   ]
  },
  {
   "cell_type": "code",
   "execution_count": 28,
   "metadata": {},
   "outputs": [
    {
     "data": {
      "text/plain": [
       "Counter({'O': 10209,\n",
       "         'AttackRansom': 1581,\n",
       "         'AttackDatabreach': 1571,\n",
       "         'DiscoverVulnerability': 1771,\n",
       "         'PatchVulnerability': 1228,\n",
       "         'AttackPhishing': 1374})"
      ]
     },
     "execution_count": 28,
     "metadata": {},
     "output_type": "execute_result"
    }
   ],
   "source": [
    "Counter(temp)"
   ]
  },
  {
   "cell_type": "code",
   "execution_count": null,
   "metadata": {},
   "outputs": [],
   "source": []
  }
 ],
 "metadata": {
  "kernelspec": {
   "display_name": "coref",
   "language": "python",
   "name": "python3"
  },
  "language_info": {
   "codemirror_mode": {
    "name": "ipython",
    "version": 3
   },
   "file_extension": ".py",
   "mimetype": "text/x-python",
   "name": "python",
   "nbconvert_exporter": "python",
   "pygments_lexer": "ipython3",
   "version": "3.7.12"
  }
 },
 "nbformat": 4,
 "nbformat_minor": 2
}
